{
 "cells": [
  {
   "cell_type": "markdown",
   "metadata": {},
   "source": [
    "LOADING THE DATASET"
   ]
  },
  {
   "cell_type": "code",
   "execution_count": null,
   "metadata": {},
   "outputs": [],
   "source": [
    "import pandas as pd\n",
    "import pyfpgrowth\n",
    "data=pd.read_csv('..\\dataset_file')"
   ]
  },
  {
   "cell_type": "markdown",
   "metadata": {},
   "source": [
    "DATA PREPROCESSING"
   ]
  },
  {
   "cell_type": "code",
   "execution_count": null,
   "metadata": {},
   "outputs": [],
   "source": [
    "#CONVERTING DATAFRAME TO LIST\n",
    "lis=data.values.tolist()\n",
    "\n",
    "#CHANGING LIST TO TRANSCATIONAL DATA \n",
    "xy=lis[1][1]\n",
    "mod_data=[]\n",
    "for i in lis:\n",
    "    arr=[]\n",
    "    for j in i:\n",
    "        if(id(j)-id(xy))!=0 :\n",
    "            arr.append(j)\n",
    "    mod_data.append(arr)"
   ]
  },
  {
   "cell_type": "markdown",
   "metadata": {},
   "source": [
    "PATTERN GENERATION"
   ]
  },
  {
   "cell_type": "code",
   "execution_count": null,
   "metadata": {},
   "outputs": [],
   "source": [
    "patterns = pyfpgrowth.find_frequent_patterns(mod_data, 0.3)"
   ]
  },
  {
   "cell_type": "markdown",
   "metadata": {},
   "source": [
    "RULE GENERATION"
   ]
  },
  {
   "cell_type": "code",
   "execution_count": null,
   "metadata": {},
   "outputs": [],
   "source": [
    "rules = pyfpgrowth.generate_association_rules(patterns, 0.8)"
   ]
  },
  {
   "cell_type": "markdown",
   "metadata": {},
   "source": [
    "CONVERTING RULES INTO DATAFRAME"
   ]
  },
  {
   "cell_type": "code",
   "execution_count": null,
   "metadata": {},
   "outputs": [],
   "source": [
    "data_list=[]\n",
    "for ante,dente in rules.items():\n",
    "    arr=[]\n",
    "    arr.append(ante)\n",
    "    arr.append(dente[0])\n",
    "    arr.append(dente[1])\n",
    "    \n",
    "    data_list.append(arr)\n",
    "rules_df=pd.DataFrame(data_list,columns=['Antecedents','Consequents','Confidence'])\n",
    "rules_df.shape"
   ]
  },
  {
   "cell_type": "markdown",
   "metadata": {},
   "source": [
    "CALCULATING THE \"LIFT\" METRIC"
   ]
  },
  {
   "cell_type": "code",
   "execution_count": null,
   "metadata": {},
   "outputs": [],
   "source": [
    "df=pd.DataFrame(mod_data)\n",
    "df['Items'] = df[df.columns[:]].apply(\n",
    "    lambda x: ','.join(x.dropna().astype(str)),\n",
    "    axis=1\n",
    ")\n",
    "df.drop(df.columns[0:6],axis=1)\n",
    "\n",
    "def support_count(rhs):  \n",
    "    count=0\n",
    "    rhs1=set(str(rhs))\n",
    "    rhs1.remove(\"'\")\n",
    "    rhs1.remove('(')\n",
    "    rhs1.remove(')')\n",
    "    rhs1.discard(' ')\n",
    "    for j in df['Items']:\n",
    "        j=set(j)\n",
    "        if(rhs1.issubset(j)):\n",
    "            count=count+1\n",
    "    return count\n",
    "rhs_support=[]\n",
    "for i in rules_df['Consequents']:\n",
    "    a=support_count(i)\n",
    "    rhs_support.append(a/len(df))\n",
    "rules_df['RHS_support']=rhs_support"
   ]
  },
  {
   "cell_type": "code",
   "execution_count": null,
   "metadata": {},
   "outputs": [],
   "source": [
    "rules_df['lift']=rules_df['Confidence']/rules_df['RHS_support']"
   ]
  },
  {
   "cell_type": "markdown",
   "metadata": {},
   "source": [
    "ACCEPTABLE RULES GENERATED"
   ]
  },
  {
   "cell_type": "code",
   "execution_count": null,
   "metadata": {},
   "outputs": [],
   "source": [
    "rules_df[(rules_df['lift'] >= 1.2) &\n",
    "(rules_df['Confidence'] >= 0.8) & (rules_df['Confidence'] >=0.3)].sort_values(by='lift')"
   ]
  },
  {
   "cell_type": "code",
   "execution_count": null,
   "metadata": {},
   "outputs": [],
   "source": [
    "DataFrame_Rules.to_csv('filename')"
   ]
  }
 ],
 "metadata": {
  "kernelspec": {
   "display_name": "Python 3",
   "language": "python",
   "name": "python3"
  },
  "language_info": {
   "codemirror_mode": {
    "name": "ipython",
    "version": 3
   },
   "file_extension": ".py",
   "mimetype": "text/x-python",
   "name": "python",
   "nbconvert_exporter": "python",
   "pygments_lexer": "ipython3",
   "version": "3.6.5"
  }
 },
 "nbformat": 4,
 "nbformat_minor": 2
}
