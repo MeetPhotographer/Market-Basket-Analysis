{
 "cells": [
  {
   "cell_type": "markdown",
   "metadata": {},
   "source": [
    "Importing required libraries"
   ]
  },
  {
   "cell_type": "code",
   "execution_count": 37,
   "metadata": {},
   "outputs": [],
   "source": [
    "import numpy as np\n",
    "import pandas as pd\n",
    "from apyori import apriori"
   ]
  },
  {
   "cell_type": "markdown",
   "metadata": {},
   "source": [
    "Loading the dataset "
   ]
  },
  {
   "cell_type": "code",
   "execution_count": 38,
   "metadata": {},
   "outputs": [],
   "source": [
    "store_data=pd.read_csv('..\dataset_file',header=None)"
   ]
  },
  {
   "cell_type": "markdown",
   "metadata": {},
   "source": [
    "Data Preprocessing"
   ]
  },
  {
   "cell_type": "code",
   "execution_count": 39,
   "metadata": {},
  
   "source": [
    "store_datax=store_data.values.tolist()\n",
    "store_datax"
   ]
  },
  {
   "cell_type": "markdown",
   "metadata": {},
   "source": [
    "Assigning the value of Nan to a varible"
   ]
  },
  {
   "cell_type": "code",
   "execution_count": 40,
   "metadata": {},
   "outputs": [],
   "source": [
    "xy=store_datax[1][1]"
   ]
  },
  {
   "cell_type": "markdown",
   "metadata": {},
   "source": [
    "Preparing the list excluding the Nan value"
   ]
  },
  {
   "cell_type": "code",
   "execution_count": 41,
   "metadata": {},
   "outputs": [],
   "source": [
    "mod_data=[]\n",
    "for i in store_datax:\n",
    "    arr=[]\n",
    "    for j in i:\n",
    "        if(id(j)-id(xy))!=0 :\n",
    "            arr.append(j)\n",
    "    mod_data.append(arr)\n",
    "    "
   ]
  },
  {
   "cell_type": "markdown",
   "metadata": {},
   "source": [
    "Having the glance at the record without Nan value"
   ]
  },
  {
   "cell_type": "code",
   "execution_count": 42,
   "metadata": {
    "scrolled": true
   },
   "outputs": [
    {
     "data": {
      "text/plain": [
       "[['wine', 'chips', 'bread', 'butter', 'milk', 'apple'],\n",
       " ['wine', 'bread', 'butter', 'milk'],\n",
       " ['bread', 'butter', 'milk'],\n",
       " ['chips', 'apple'],\n",
       " ['wine', 'chips', 'bread', 'butter', 'milk', 'apple'],\n",
       " ['wine', 'chips', 'milk'],\n",
       " ['wine', 'chips', 'bread', 'butter', 'apple'],\n",
       " ['wine', 'chips', 'milk'],\n",
       " ['wine', 'bread', 'apple'],\n",
       " ['wine', 'bread', 'butter', 'milk'],\n",
       " ['chips', 'bread', 'butter', 'apple'],\n",
       " ['wine', 'butter', 'milk', 'apple'],\n",
       " ['wine', 'chips', 'bread', 'butter', 'milk'],\n",
       " ['wine', 'bread', 'milk', 'apple'],\n",
       " ['wine', 'bread', 'butter', 'milk', 'apple'],\n",
       " ['wine', 'chips', 'bread', 'butter', 'milk', 'apple'],\n",
       " ['chips', 'bread', 'butter', 'milk', 'apple'],\n",
       " ['chips', 'butter', 'milk', 'apple'],\n",
       " ['wine', 'chips', 'bread', 'butter', 'milk', 'apple'],\n",
       " ['wine', 'bread', 'butter', 'milk', 'apple'],\n",
       " ['wine', 'chips', 'bread', 'milk', 'apple'],\n",
       " ['chips']]"
      ]
     },
     "execution_count": 42,
     "metadata": {},
     "output_type": "execute_result"
    }
   ],
   "source": [
    "mod_data"
   ]
  },
  {
   "cell_type": "markdown",
   "metadata": {},
   "source": [
    "Model Generation\n",
    "Building the first Apriori model"
   ]
  },
  {
   "cell_type": "code",
   "execution_count": 43,
   "metadata": {},
   "outputs": [],
   "source": [
    "association_rules=apriori(mod_data,min_support=0.30,min_confidence=0.80,min_lift=1.2,min_length=1)\n",
    "association_results=list(association_rules)"
   ]
  },
  {
   "cell_type": "markdown",
   "metadata": {},
   "source": [
    " Getting the number of rules"
   ]
  },
  {
   "cell_type": "code",
   "execution_count": 44,
   "metadata": {
    "scrolled": true
   },
   "outputs": [
    {
     "name": "stdout",
     "output_type": "stream",
     "text": [
      "11\n"
     ]
    }
   ],
   "source": [
    "print(len(association_results))"
   ]
  },
  {
   "cell_type": "markdown",
   "metadata": {},
   "source": [
    "Converting to required output type(i.e. DataType)"
   ]
  },
  {
   "cell_type": "code",
   "execution_count": 49,
   "metadata": {},
   "outputs": [],
   "source": [
    "lis=[]\n",
    "for i in association_results:\n",
    "    #print(i)\n",
    "    arr=[]\n",
    "    arr.append(i[2][0][0])\n",
    "    arr.append(i[2][0][1])\n",
    "    arr.append(i[1])\n",
    "    arr.append(i[2][0][2])\n",
    "    arr.append(i[2][0][3])\n",
    "    lis.append(arr)\n",
    "DataFrame_Rules=pd.DataFrame(lis,columns=['Antecedents','Consequents','Support','Confidence','Lift'])"
   ]
  },
  {
   "cell_type": "markdown",
   "metadata": {},
   "source": [
    "Model Evaluation"
   ]
  },
  {
   "cell_type": "code",
   "execution_count": 46,
   "metadata": {},
   "outputs": [
    {
     "data": {
      "text/html": [
       "<div>\n",
       "<style scoped>\n",
       "    .dataframe tbody tr th:only-of-type {\n",
       "        vertical-align: middle;\n",
       "    }\n",
       "\n",
       "    .dataframe tbody tr th {\n",
       "        vertical-align: top;\n",
       "    }\n",
       "\n",
       "    .dataframe thead th {\n",
       "        text-align: right;\n",
       "    }\n",
       "</style>\n",
       "<table border=\"1\" class=\"dataframe\">\n",
       "  <thead>\n",
       "    <tr style=\"text-align: right;\">\n",
       "      <th></th>\n",
       "      <th>Antecedents</th>\n",
       "      <th>Consequents</th>\n",
       "      <th>Support</th>\n",
       "      <th>Confidence</th>\n",
       "      <th>Lift</th>\n",
       "    </tr>\n",
       "  </thead>\n",
       "  <tbody>\n",
       "    <tr>\n",
       "      <th>3</th>\n",
       "      <td>(milk, apple)</td>\n",
       "      <td>(butter)</td>\n",
       "      <td>0.409091</td>\n",
       "      <td>0.818182</td>\n",
       "      <td>1.200000</td>\n",
       "    </tr>\n",
       "    <tr>\n",
       "      <th>10</th>\n",
       "      <td>(bread, wine, milk)</td>\n",
       "      <td>(butter)</td>\n",
       "      <td>0.409091</td>\n",
       "      <td>0.818182</td>\n",
       "      <td>1.200000</td>\n",
       "    </tr>\n",
       "    <tr>\n",
       "      <th>8</th>\n",
       "      <td>(butter, wine, apple)</td>\n",
       "      <td>(bread)</td>\n",
       "      <td>0.318182</td>\n",
       "      <td>0.875000</td>\n",
       "      <td>1.203125</td>\n",
       "    </tr>\n",
       "    <tr>\n",
       "      <th>9</th>\n",
       "      <td>(milk, bread, apple)</td>\n",
       "      <td>(wine)</td>\n",
       "      <td>0.363636</td>\n",
       "      <td>0.888889</td>\n",
       "      <td>1.222222</td>\n",
       "    </tr>\n",
       "    <tr>\n",
       "      <th>5</th>\n",
       "      <td>(bread, milk)</td>\n",
       "      <td>(butter)</td>\n",
       "      <td>0.500000</td>\n",
       "      <td>0.846154</td>\n",
       "      <td>1.241026</td>\n",
       "    </tr>\n",
       "    <tr>\n",
       "      <th>1</th>\n",
       "      <td>(wine, apple)</td>\n",
       "      <td>(bread)</td>\n",
       "      <td>0.454545</td>\n",
       "      <td>0.909091</td>\n",
       "      <td>1.250000</td>\n",
       "    </tr>\n",
       "    <tr>\n",
       "      <th>6</th>\n",
       "      <td>(butter, wine)</td>\n",
       "      <td>(bread)</td>\n",
       "      <td>0.454545</td>\n",
       "      <td>0.909091</td>\n",
       "      <td>1.250000</td>\n",
       "    </tr>\n",
       "    <tr>\n",
       "      <th>7</th>\n",
       "      <td>(chips, bread, apple)</td>\n",
       "      <td>(butter)</td>\n",
       "      <td>0.318182</td>\n",
       "      <td>0.875000</td>\n",
       "      <td>1.283333</td>\n",
       "    </tr>\n",
       "    <tr>\n",
       "      <th>0</th>\n",
       "      <td>(chips, bread)</td>\n",
       "      <td>(apple)</td>\n",
       "      <td>0.363636</td>\n",
       "      <td>0.888889</td>\n",
       "      <td>1.303704</td>\n",
       "    </tr>\n",
       "    <tr>\n",
       "      <th>2</th>\n",
       "      <td>(butter, chips)</td>\n",
       "      <td>(apple)</td>\n",
       "      <td>0.363636</td>\n",
       "      <td>0.888889</td>\n",
       "      <td>1.303704</td>\n",
       "    </tr>\n",
       "    <tr>\n",
       "      <th>4</th>\n",
       "      <td>(chips, bread)</td>\n",
       "      <td>(butter)</td>\n",
       "      <td>0.363636</td>\n",
       "      <td>0.888889</td>\n",
       "      <td>1.303704</td>\n",
       "    </tr>\n",
       "  </tbody>\n",
       "</table>\n",
       "</div>"
      ],
      "text/plain": [
       "              Antecedents Consequents   Support  Confidence      Lift\n",
       "3           (milk, apple)    (butter)  0.409091    0.818182  1.200000\n",
       "10    (bread, wine, milk)    (butter)  0.409091    0.818182  1.200000\n",
       "8   (butter, wine, apple)     (bread)  0.318182    0.875000  1.203125\n",
       "9    (milk, bread, apple)      (wine)  0.363636    0.888889  1.222222\n",
       "5           (bread, milk)    (butter)  0.500000    0.846154  1.241026\n",
       "1           (wine, apple)     (bread)  0.454545    0.909091  1.250000\n",
       "6          (butter, wine)     (bread)  0.454545    0.909091  1.250000\n",
       "7   (chips, bread, apple)    (butter)  0.318182    0.875000  1.283333\n",
       "0          (chips, bread)     (apple)  0.363636    0.888889  1.303704\n",
       "2         (butter, chips)     (apple)  0.363636    0.888889  1.303704\n",
       "4          (chips, bread)    (butter)  0.363636    0.888889  1.303704"
      ]
     },
     "execution_count": 46,
     "metadata": {},
     "output_type": "execute_result"
    }
   ],
   "source": [
    "DataFrame_Rules.sort_values(by='Lift')"
   ]
  },
  {
   "cell_type": "markdown",
   "metadata": {},
   "source": [
    " Converting into .csv file"
   ]
  },
  {
   "cell_type": "code",
   "execution_count": 47,
   "metadata": {},
   "outputs": [],
   "source": [
    "DataFrame_Rules.to_csv('Rules.csv')"
   ]
  }
 ],
 "metadata": {
  "kernelspec": {
   "display_name": "Python 3",
   "language": "python",
   "name": "python3"
  },
  "language_info": {
   "codemirror_mode": {
    "name": "ipython",
    "version": 3
   },
   "file_extension": ".py",
   "mimetype": "text/x-python",
   "name": "python",
   "nbconvert_exporter": "python",
   "pygments_lexer": "ipython3",
   "version": "3.6.5"
  }
 },
 "nbformat": 4,
 "nbformat_minor": 2
}
